{
 "cells": [
  {
   "cell_type": "markdown",
   "metadata": {},
   "source": [
    "## Test case 1"
   ]
  },
  {
   "cell_type": "markdown",
   "metadata": {},
   "source": [
    "### Testing parameter"
   ]
  },
  {
   "cell_type": "markdown",
   "metadata": {},
   "source": [
    "learning_rate = 0.001\n",
    "\n",
    "batch_size = 128    # 256 failed because memory problem\n",
    "\n",
    "num_epochs = 15"
   ]
  },
  {
   "cell_type": "markdown",
   "metadata": {},
   "source": [
    "### Model dimension"
   ]
  },
  {
   "cell_type": "markdown",
   "metadata": {},
   "source": [
    "```\n",
    "inputs Shape in fcn_model: (?, 128, 128, 3)\n",
    "output_layer 01 Shape in encoder_block: (?, 64, 64, 64)\n",
    "small_ip_layer Shape in fcn_model: (?, 64, 64, 64)\n",
    "upsampled_layer Shape in decoder_block: (?, 128, 128, 64)\n",
    "large_ip_layer Shape in decoder_block: (?, 128, 128, 3)\n",
    "output_layer last Shape in decoder_block: (?, 128, 128, 64)\n",
    "```"
   ]
  },
  {
   "cell_type": "markdown",
   "metadata": {},
   "source": [
    "### Training"
   ]
  },
  {
   "cell_type": "markdown",
   "metadata": {},
   "source": [
    "```\n",
    "Epoch 1/15\n",
    "500/500 [==============================] - 399s - loss: 0.0436 - val_loss: 0.0606\n",
    "Epoch 2/15\n",
    "500/500 [==============================] - 398s - loss: 0.0384 - val_loss: 0.0570\n",
    "Epoch 3/15\n",
    "500/500 [==============================] - 399s - loss: 0.0359 - val_loss: 0.0514\n",
    "Epoch 4/15\n",
    "500/500 [==============================] - 400s - loss: 0.0349 - val_loss: 0.0536\n",
    "Epoch 5/15\n",
    "500/500 [==============================] - 399s - loss: 0.0334 - val_loss: 0.0500\n",
    "Epoch 6/15\n",
    "500/500 [==============================] - 399s - loss: 0.0325 - val_loss: 0.0519\n",
    "Epoch 7/15\n",
    "500/500 [==============================] - 399s - loss: 0.0323 - val_loss: 0.0509\n",
    "Epoch 8/15\n",
    "500/500 [==============================] - 400s - loss: 0.0322 - val_loss: 0.0477\n",
    "Epoch 9/15\n",
    "500/500 [==============================] - 399s - loss: 0.0313 - val_loss: 0.0476\n",
    "Epoch 10/15\n",
    "500/500 [==============================] - 400s - loss: 0.0321 - val_loss: 0.0472\n",
    "Epoch 11/15\n",
    "500/500 [==============================] - 399s - loss: 0.0304 - val_loss: 0.0517\n",
    "Epoch 12/15\n",
    "500/500 [==============================] - 400s - loss: 0.0308 - val_loss: 0.0466\n",
    "Epoch 13/15\n",
    "500/500 [==============================] - 399s - loss: 0.0303 - val_loss: 0.0462\n",
    "Epoch 14/15\n",
    "500/500 [==============================] - 399s - loss: 0.0302 - val_loss: 0.0454\n",
    "Epoch 15/15\n",
    "500/500 [==============================] - 400s - loss: 0.0298 - val_loss: 0.0459\n",
    "Time: 5995.35s\n",
    "```"
   ]
  },
  {
   "cell_type": "markdown",
   "metadata": {},
   "source": [
    "### Evaluation"
   ]
  },
  {
   "cell_type": "markdown",
   "metadata": {},
   "source": [
    "```\n",
    "number of validation samples intersection over the union evaulated on 1184\n",
    "average intersection over union for background is 0.9898736023056139\n",
    "average intersection over union for hero is 0.2410830970919469\n",
    "average intersection over union for other people is 0.13401109884128776\n",
    "global average intersection over union is 0.4549892660796162\n",
    "```"
   ]
  },
  {
   "cell_type": "markdown",
   "metadata": {},
   "source": [
    "## Test case 2\n",
    "\n",
    "### Testing parameter"
   ]
  },
  {
   "cell_type": "markdown",
   "metadata": {},
   "source": [
    "learning_rate = 0.0001\n",
    "\n",
    "batch_size = 128    #128 or 256\n",
    "\n",
    "num_epochs = 20"
   ]
  },
  {
   "cell_type": "markdown",
   "metadata": {},
   "source": [
    "### Model dimension"
   ]
  },
  {
   "cell_type": "markdown",
   "metadata": {},
   "source": [
    "```\n",
    "inputs Shape in fcn_model: (?, 128, 128, 3)\n",
    "output_layer 01 Shape in encoder_block: (?, 64, 64, 64)\n",
    "small_ip_layer Shape in fcn_model: (?, 64, 64, 64)\n",
    "upsampled_layer Shape in decoder_block: (?, 128, 128, 64)\n",
    "large_ip_layer Shape in decoder_block: (?, 128, 128, 3)\n",
    "output_layer last Shape in decoder_block: (?, 128, 128, 64)\n",
    "```"
   ]
  },
  {
   "cell_type": "markdown",
   "metadata": {},
   "source": [
    "## Training"
   ]
  },
  {
   "cell_type": "markdown",
   "metadata": {},
   "source": [
    "```\n",
    "Epoch 1/20\n",
    "500/500 [==============================] - 402s - loss: 0.4173 - val_loss: 0.1614\n",
    "Epoch 2/20\n",
    "500/500 [==============================] - 402s - loss: 0.0798 - val_loss: 0.0868\n",
    "Epoch 3/20\n",
    "500/500 [==============================] - 402s - loss: 0.0574 - val_loss: 0.0762\n",
    "Epoch 4/20\n",
    "500/500 [==============================] - 403s - loss: 0.0510 - val_loss: 0.0718\n",
    "Epoch 5/20\n",
    "500/500 [==============================] - 402s - loss: 0.0478 - val_loss: 0.0665\n",
    "Epoch 6/20\n",
    "500/500 [==============================] - 402s - loss: 0.0455 - val_loss: 0.0655\n",
    "Epoch 7/20\n",
    "500/500 [==============================] - 402s - loss: 0.0437 - val_loss: 0.0639\n",
    "Epoch 8/20\n",
    "500/500 [==============================] - 402s - loss: 0.0429 - val_loss: 0.0619\n",
    "Epoch 9/20\n",
    "500/500 [==============================] - 402s - loss: 0.0417 - val_loss: 0.0611\n",
    "Epoch 10/20\n",
    "500/500 [==============================] - 403s - loss: 0.0410 - val_loss: 0.0611\n",
    "Epoch 11/20\n",
    "500/500 [==============================] - 402s - loss: 0.0401 - val_loss: 0.0587\n",
    "Epoch 12/20\n",
    "500/500 [==============================] - 403s - loss: 0.0399 - val_loss: 0.0581\n",
    "Epoch 13/20\n",
    "500/500 [==============================] - 402s - loss: 0.0390 - val_loss: 0.0576\n",
    "Epoch 14/20\n",
    "500/500 [==============================] - 402s - loss: 0.0386 - val_loss: 0.0572\n",
    "Epoch 15/20\n",
    "500/500 [==============================] - 402s - loss: 0.0380 - val_loss: 0.0567\n",
    "Epoch 16/20\n",
    "500/500 [==============================] - 402s - loss: 0.0377 - val_loss: 0.0566\n",
    "Epoch 17/20\n",
    "500/500 [==============================] - 402s - loss: 0.0372 - val_loss: 0.0563\n",
    "Epoch 18/20\n",
    "500/500 [==============================] - 402s - loss: 0.0372 - val_loss: 0.0568\n",
    "Epoch 19/20\n",
    "500/500 [==============================] - 402s - loss: 0.0370 - val_loss: 0.0551\n",
    "Epoch 20/20\n",
    "500/500 [==============================] - 401s - loss: 0.0366 - val_loss: 0.0556\n",
    "Time: 8052.29s\n",
    "\n",
    "```"
   ]
  },
  {
   "cell_type": "markdown",
   "metadata": {},
   "source": [
    "### Evaluation"
   ]
  },
  {
   "cell_type": "markdown",
   "metadata": {},
   "source": [
    "```\n",
    "number of validation samples intersection over the union evaulated on 1184\n",
    "average intersection over union for background is 0.9877722040340244\n",
    "average intersection over union for hero is 0.18220813479588796\n",
    "average intersection over union for other people is 0.10903355508676463\n",
    "global average intersection over union is 0.42633796463889234\n",
    "\n",
    "```"
   ]
  },
  {
   "cell_type": "code",
   "execution_count": null,
   "metadata": {},
   "outputs": [],
   "source": []
  }
 ],
 "metadata": {
  "kernelspec": {
   "display_name": "Python 3",
   "language": "python",
   "name": "python3"
  },
  "language_info": {
   "codemirror_mode": {
    "name": "ipython",
    "version": 3
   },
   "file_extension": ".py",
   "mimetype": "text/x-python",
   "name": "python",
   "nbconvert_exporter": "python",
   "pygments_lexer": "ipython3",
   "version": "3.6.2"
  }
 },
 "nbformat": 4,
 "nbformat_minor": 2
}
